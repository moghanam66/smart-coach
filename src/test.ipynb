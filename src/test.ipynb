{
 "cells": [
  {
   "cell_type": "code",
   "execution_count": null,
   "metadata": {},
   "outputs": [],
   "source": [
    "import pandas as pd\n",
    "\n",
    "['nadal','o','15','esp']\n",
    "\n",
    "\n",
    "\n",
    "total_firstplayerscores=[['o', 'nadal', 'esp', '15'], ['o', 'nadal', 'esp', '15'], ['o', 'nadal', 'esp', '15'], ['o', 'nadal', 'esp', '15'], ['o', 'nadal', 'esp', '15'], ['o', 'nadal', 'esp', '15'], ['o', 'nadal', 'esp', '15'], ['o', 'nadal', 'esp', '15'], ['o', 'nadal', 'esp', '15'], ['o', 'nadal', 'esp', '15'], ['o', 'nadal', 'esp', '15'], ['o', 'nadal', 'esp', '15'], ['o', 'nadal', 'esp', '15'], ['o', 'nadal', 'esp', '15'], ['o', 'nadal', 'esp', '15'], ['o', 'nadal', 'esp', '15'], ['o', 'nadal', 'esp', '15'], ['o', 'nadal', 'esp', '15'], ['o', 'nadal', 'esp', '15'], ['o', 'nadal', 'esp', '15'], ['o', 'nadal', 'esp', '15'], ['o', 'nadal', 'esp', '15'], ['o', 'nadal', 'esp', '15'], ['o', 'nadal', 'esp', '15'], ['o', 'nadal', 'esp', '15'], ['o', 'nadal', 'esp', '15'], ['o', 'nadal', 'esp', '15'], ['o', 'nadal', 'esp', '15'], ['o', 'nadal', 'esp', '15'], ['o', 'nadal', 'esp', '15'], ['o', 'nadal', 'esp', '15'], ['o', 'nadal', 'esp', '15'], ['o', 'nadal', 'esp', '15'], ['o', 'nadal', 'esp', '15'], ['o', 'nadal', 'esp', '15'], ['o', 'nadal', 'esp', '15'], ['o', 'nadal', 'esp', '15'], ['o', 'nadal', 'esp', '15'], ['o', 'nadal', 'esp', '15'], ['o', 'nadal', 'esp', '15'], ['o', 'nadal', 'esp', '15'], ['o', 'nadal', 'esp', '15'], ['o', 'nadal', 'esp', '15'], ['o', 'nadal', 'esp', '15'], ['o', 'nadal', 'esp', '15'], ['o', 'nadal', 'esp', '15'], ['o', 'nadal', 'esp', '15'], ['o', 'nadal', 'esp', '15'], ['o', 'nadal', 'esp', '15'], ['o', 'nadal', 'esp', '15'], ['o', 'nadal', 'esp', '15'], ['o', 'nadal', 'esp', '15'], ['o', 'nadal', 'esp', '15'], ['o', 'nadal', 'esp', '15'], ['o', 'nadal', 'esp', '15'], ['o', 'nadal', 'esp', '15'], ['o', 'nadal', 'esp', '15'], ['o', 'nadal', 'esp', '15'], ['o', 'nadal', 'esp', '15'], ['nadal', 'lo', 'esp', '15'], ['nadal', 'lo', 'esp', '15'], ['nadal', 'lo', 'esp', '15'], ['nadal', 'lo', 'esp', '15'], ['nadal', 'lo', 'esp', '15'], ['nadal', 'lo', 'esp', '15'], ['nadal', 'lo', 'esp', '15'], ['nadal', 'lo', 'esp', '15'], ['nadal', 'lo', 'esp', '15'], ['nadal', 'lo', 'esp', '15'], ['nadal', 'lo', 'esp', '15'], ['nadal', 'lo', 'esp', '15'], ['nadal', 'lo', 'esp', '15'], ['nadal', 'lo', 'esp', '15'], ['nadal', 'lo', 'esp', '15'], ['nadal', 'lo', 'esp', '15'], ['nadal', 'lo', 'esp', '15'], ['nadal', 'lo', 'esp', '15'], ['nadal', 'lo', 'esp', '15'], ['nadal', 'lo', 'esp', '15'], ['nadal', 'lo', 'esp', '15'], ['nadal', 'lo', 'esp', '15'], ['nadal', 'lo', 'esp', '15'], ['nadal', 'lo', 'esp', '15'], ['nadal', 'lo', 'esp', '15'], ['nadal', 'lo', 'esp', '15'], ['nadal', 'lo', 'esp', '15'], ['nadal', 'lo', 'esp', '15'], ['nadal', 'lo', 'esp', '15'], ['nadal', 'lo', 'esp', '15'], ['nadal', 'lo', 'esp', '15'], ['nadal', 'lo', 'esp', '15'], ['nadal', 'lo', 'esp', '15'], ['nadal', 'lo', 'esp', '15'], ['nadal', 'lo', 'esp', '15'], ['nadal', 'lo', 'esp', '15'], ['nadal', 'lo', 'esp', '15'], ['nadal', 'lo', 'esp', '15'], ['nadal', 'lo', 'esp', '15'], ['nadal', 'lo', 'esp', '15'], ['nadal', 'lo', 'esp', '15'], ['nadal', 'lo', 'esp', '15'], ['nadal', 'lo', 'esp', '15'], ['nadal', 'lo', 'esp', '15'], ['nadal', 'lo', 'esp', '15'], ['nadal', 'lo', 'esp', '15'], ['nadal', 'lo', 'esp', '15'], ['nadal', 'lo', 'esp', '15'], ['nadal', 'lo', 'esp', '15'], ['nadal', 'lo', 'esp', '15'], ['nadal', 'lo', 'esp', '15'], ['nadal', 'lo', 'esp', '15'], ['nadal', 'lo', 'esp', '15'], ['nadal', 'lo', 'esp', '15'], ['nadal', 'lo', 'esp', '15'], ['nadal', 'lo', 'esp', '15'], ['nadal', 'lo', 'esp', '15'], ['nadal', 'lo', 'esp', '15'], ['nadal', 'lo', 'esp', '15'], ['nadal', 'lo', 'esp', '15'], ['o', 'nadal', 'esp', '15'], ['o', 'nadal', 'esp', '15'], ['o', 'nadal', 'esp', '15'], ['o', 'nadal', 'esp', '15'], ['o', 'nadal', 'esp', '15'], ['o', 'nadal', 'esp', '15'], ['o', 'nadal', 'esp', '15'], ['o', 'nadal', 'esp', '15'], ['o', 'nadal', 'esp', '15'], ['o', 'nadal', 'esp', '15'], ['o', 'nadal', 'esp', '15'], ['o', 'nadal', 'esp', '15'], ['o', 'nadal', 'esp', '15'], ['o', 'nadal', 'esp', '15'], ['o', 'nadal', 'esp', '15'], ['o', 'nadal', 'esp', '15'], ['o', 'nadal', 'esp', '15'], ['o', 'nadal', 'esp', '15'], ['o', 'nadal', 'esp', '15'], ['o', 'nadal', 'esp', '15'], ['o', 'nadal', 'esp', '15'], ['o', 'nadal', 'esp', '15'], ['o', 'nadal', 'esp', '15'], ['o', 'nadal', 'esp', '15'], ['o', 'nadal', 'esp', '15'], ['o', 'nadal', 'esp', '15'], ['o', 'nadal', 'esp', '15'], ['o', 'nadal', 'esp', '15'], ['o', 'nadal', 'esp', '15'], ['o', 'nadal', 'esp', '15'], ['o', 'nadal', 'esp', '15'], ['o', 'nadal', 'esp', '15'], ['o', 'nadal', 'esp', '15'], ['o', 'nadal', 'esp', '15'], ['o', 'nadal', 'esp', '15'], ['o', 'nadal', 'esp', '15'], ['o', 'nadal', 'esp', '15'], ['o', 'nadal', 'esp', '15'], ['o', 'nadal', 'esp', '15'], ['o', 'nadal', 'esp', '15'], ['o', 'nadal', 'esp', '15'], ['o', 'nadal', 'esp', '15'], ['o', 'nadal', 'esp', '15'], ['o', 'nadal', 'esp', '15'], ['o', 'nadal', 'esp', '15'], ['o', 'nadal', 'esp', '15'], ['o', 'nadal', 'esp', '15'], ['o', 'nadal', 'esp', '15'], ['o', 'nadal', 'esp', '15'], ['o', 'nadal', 'esp', '15'], ['o', 'nadal', 'esp', '15'], ['o', 'nadal', 'esp', '15'], ['o', 'nadal', 'esp', '15'], ['o', 'nadal', 'esp', '15'], ['o', 'nadal', 'esp', '15'], ['o', 'nadal', 'esp', '15'], ['o', 'nadal', 'esp', '15'], ['o', 'nadal', 'esp', '15'], ['o', 'nadal', 'esp', '15'], ['o', 'nadal', 'esp', '15'], ['o', 'nadal', 'esp', '15'], ['o', 'nadal', 'esp', '15'], ['o', 'nadal', 'esp', '15'], ['o', 'nadal', 'esp', '15'], ['o', 'nadal', 'esp', '15'], ['o', 'nadal', 'esp', '15'], ['o', 'nadal', 'esp', '15'], ['o', 'nadal', 'esp', '15'], ['o', 'nadal', 'esp', '15'], ['o', 'nadal', 'esp', '15'], ['o', 'nadal', 'esp', '15'], ['o', 'nadal', 'esp', '15'], ['o', 'nadal', 'esp', '15'], ['o', 'nadal', 'esp', '15'], ['o', 'nadal', 'esp', '15'], ['o', 'nadal', 'esp', '15'], ['o', 'nadal', 'esp', '15'], ['o', 'nadal', 'esp', '15'], ['o', 'nadal', 'esp', '15'], ['o', 'nadal', 'esp', '15'], ['o', 'nadal', 'esp', '15'], ['o', 'nadal', 'esp', '15'], ['o', 'nadal', 'esp', '15'], ['o', 'nadal', 'esp', '15'], ['o', 'nadal', 'esp', '15']]\n",
    "total_secondplayerscores=[['potro', 'o', 'del', 'arg', '24', '0'], ['potro', 'o', 'del', 'arg', '24', '0'], ['potro', 'o', 'del', 'arg', '24', '0'], ['potro', 'o', 'del', 'arg', '24', '0'], ['potro', 'o', 'del', 'arg', '24', '0'], ['potro', 'o', 'del', 'arg', '24', '0'], ['potro', 'o', 'del', 'arg', '24', '0'], ['potro', 'o', 'del', 'arg', '24', '0'], ['potro', 'o', 'del', 'arg', '24', '0'], ['potro', 'o', 'del', 'arg', '24', '0'], ['potro', 'o', 'del', 'arg', '24', '0'], ['potro', 'o', 'del', 'arg', '24', '0'], ['potro', 'o', 'del', 'arg', '24', '0'], ['potro', 'o', 'del', 'arg', '24', '0'], ['potro', 'o', 'del', 'arg', '24', '0'], ['potro', 'o', 'del', 'arg', '24', '0'], ['potro', 'o', 'del', 'arg', '24', '0'], ['potro', 'o', 'del', 'arg', '24', '0'], ['potro', 'o', 'del', 'arg', '24', '0'], ['potro', 'o', 'del', 'arg', '24', '0'], ['potro', 'o', 'del', 'arg', '24', '0'], ['potro', 'o', 'del', 'arg', '24', '0'], ['potro', 'o', 'del', 'arg', '24', '0'], ['potro', 'o', 'del', 'arg', '24', '0'], ['potro', 'o', 'del', 'arg', '24', '0'], ['potro', 'o', 'del', 'arg', '24', '0'], ['potro', 'o', 'del', 'arg', '24', '0'], ['potro', 'o', 'del', 'arg', '24', '0'], ['potro', 'o', 'del', 'arg', '24', '0'], ['potro', 'o', 'del', 'arg', '24', '0'], ['potro', 'o', 'del', 'arg', '24', '0'], ['potro', 'o', 'del', 'arg', '24', '0'], ['potro', 'o', 'del', 'arg', '24', '0'], ['potro', 'o', 'del', 'arg', '24', '0'], ['potro', 'o', 'del', 'arg', '24', '0'], ['potro', 'o', 'del', 'arg', '24', '0'], ['potro', 'o', 'del', 'arg', '24', '0'], ['potro', 'o', 'del', 'arg', '24', '0'], ['potro', 'o', 'del', 'arg', '24', '0'], ['potro', 'o', 'del', 'arg', '24', '0'], ['potro', 'o', 'del', 'arg', '24', '0'], ['potro', 'o', 'del', 'arg', '24', '0'], ['potro', 'o', 'del', 'arg', '24', '0'], ['potro', 'o', 'del', 'arg', '24', '0'], ['potro', 'o', 'del', 'arg', '24', '0'], ['potro', 'o', 'del', 'arg', '24', '0'], ['potro', 'o', 'del', 'arg', '24', '0'], ['potro', 'o', 'del', 'arg', '24', '0'], ['potro', 'o', 'del', 'arg', '24', '0'], ['potro', 'o', 'del', 'arg', '24', '0'], ['potro', 'o', 'del', 'arg', '24', '0'], ['potro', 'o', 'del', 'arg', '24', '0'], ['potro', 'o', 'del', 'arg', '24', '0'], ['potro', 'o', 'del', 'arg', '24', '0'], ['potro', 'o', 'del', 'arg', '24', '0'], ['potro', 'o', 'del', 'arg', '24', '0'], ['potro', 'o', 'del', 'arg', '24', '0'], ['potro', 'o', 'del', 'arg', '24', '0'], ['potro', 'o', 'del', 'arg', '24', '0'], ['potro', 'o', 'o', 'del', 'arg', '24'], ['potro', 'o', 'o', 'del', 'arg', '24'], ['potro', 'o', 'o', 'del', 'arg', '24'], ['potro', 'o', 'o', 'del', 'arg', '24'], ['potro', 'o', 'o', 'del', 'arg', '24'], ['potro', 'o', 'o', 'del', 'arg', '24'], ['potro', 'o', 'o', 'del', 'arg', '24'], ['potro', 'o', 'o', 'del', 'arg', '24'], ['potro', 'o', 'o', 'del', 'arg', '24'], ['potro', 'o', 'o', 'del', 'arg', '24'], ['potro', 'o', 'o', 'del', 'arg', '24'], ['potro', 'o', 'o', 'del', 'arg', '24'], ['potro', 'o', 'o', 'del', 'arg', '24'], ['potro', 'o', 'o', 'del', 'arg', '24'], ['potro', 'o', 'o', 'del', 'arg', '24'], ['potro', 'o', 'o', 'del', 'arg', '24'], ['potro', 'o', 'o', 'del', 'arg', '24'], ['potro', 'o', 'o', 'del', 'arg', '24'], ['potro', 'o', 'o', 'del', 'arg', '24'], ['potro', 'o', 'o', 'del', 'arg', '24'], ['potro', 'o', 'o', 'del', 'arg', '24'], ['potro', 'o', 'o', 'del', 'arg', '24'], ['potro', 'o', 'o', 'del', 'arg', '24'], ['potro', 'o', 'o', 'del', 'arg', '24'], ['potro', 'o', 'o', 'del', 'arg', '24'], ['potro', 'o', 'o', 'del', 'arg', '24'], ['potro', 'o', 'o', 'del', 'arg', '24'], ['potro', 'o', 'o', 'del', 'arg', '24'], ['potro', 'o', 'o', 'del', 'arg', '24'], ['potro', 'o', 'o', 'del', 'arg', '24'], ['potro', 'o', 'o', 'del', 'arg', '24'], ['potro', 'o', 'o', 'del', 'arg', '24'], ['potro', 'o', 'o', 'del', 'arg', '24'], ['potro', 'o', 'o', 'del', 'arg', '24'], ['potro', 'o', 'o', 'del', 'arg', '24'], ['potro', 'o', 'o', 'del', 'arg', '24'], ['potro', 'o', 'o', 'del', 'arg', '24'], ['potro', 'o', 'o', 'del', 'arg', '24'], ['potro', 'o', 'o', 'del', 'arg', '24'], ['potro', 'o', 'o', 'del', 'arg', '24'], ['potro', 'o', 'o', 'del', 'arg', '24'], ['potro', 'o', 'o', 'del', 'arg', '24'], ['potro', 'o', 'o', 'del', 'arg', '24'], ['potro', 'o', 'o', 'del', 'arg', '24'], ['potro', 'o', 'o', 'del', 'arg', '24'], ['potro', 'o', 'o', 'del', 'arg', '24'], ['potro', 'o', 'o', 'del', 'arg', '24'], ['potro', 'o', 'o', 'del', 'arg', '24'], ['potro', 'o', 'o', 'del', 'arg', '24'], ['potro', 'o', 'o', 'del', 'arg', '24'], ['potro', 'o', 'o', 'del', 'arg', '24'], ['potro', 'o', 'o', 'del', 'arg', '24'], ['potro', 'o', 'o', 'del', 'arg', '24'], ['potro', 'o', 'o', 'del', 'arg', '24'], ['potro', 'o', 'o', 'del', 'arg', '24'], ['potro', 'o', 'o', 'del', 'arg', '24'], ['potro', 'o', 'o', 'del', 'arg', '24'], ['potro', 'o', 'o', 'del', 'arg', '24'], ['potro', 'o', 'o', 'del', 'arg', '24'], ['potro', 'o', 'o', 'del', 'arg', '24'], ['potro', 'lo', 'del', 'arg', '24', '15'], ['potro', 'lo', 'del', 'arg', '24', '15'], ['potro', 'lo', 'del', 'arg', '24', '15'], ['potro', 'lo', 'del', 'arg', '24', '15'], ['potro', 'lo', 'del', 'arg', '24', '15'], ['potro', 'lo', 'del', 'arg', '24', '15'], ['potro', 'lo', 'del', 'arg', '24', '15'], ['potro', 'lo', 'del', 'arg', '24', '15'], ['potro', 'lo', 'del', 'arg', '24', '15'], ['potro', 'lo', 'del', 'arg', '24', '15'], ['potro', 'lo', 'del', 'arg', '24', '15'], ['potro', 'lo', 'del', 'arg', '24', '15'], ['potro', 'lo', 'del', 'arg', '24', '15'], ['potro', 'lo', 'del', 'arg', '24', '15'], ['potro', 'lo', 'del', 'arg', '24', '15'], ['potro', 'lo', 'del', 'arg', '24', '15'], ['potro', 'lo', 'del', 'arg', '24', '15'], ['potro', 'lo', 'del', 'arg', '24', '15'], ['potro', 'lo', 'del', 'arg', '24', '15'], ['potro', 'lo', 'del', 'arg', '24', '15'], ['potro', 'lo', 'del', 'arg', '24', '15'], ['potro', 'lo', 'del', 'arg', '24', '15'], ['potro', 'lo', 'del', 'arg', '24', '15'], ['potro', 'lo', 'del', 'arg', '24', '15'], ['potro', 'lo', 'del', 'arg', '24', '15'], ['potro', 'lo', 'del', 'arg', '24', '15'], ['potro', 'lo', 'del', 'arg', '24', '15'], ['potro', 'lo', 'del', 'arg', '24', '15'], ['potro', 'lo', 'del', 'arg', '24', '15'], ['potro', 'lo', 'del', 'arg', '24', '15'], ['potro', 'lo', 'del', 'arg', '24', '15'], ['potro', 'lo', 'del', 'arg', '24', '15'], ['potro', 'lo', 'del', 'arg', '24', '15'], ['potro', 'lo', 'del', 'arg', '24', '15'], ['potro', 'lo', 'del', 'arg', '24', '15'], ['potro', 'lo', 'del', 'arg', '24', '15'], ['potro', 'lo', 'del', 'arg', '24', '15'], ['potro', 'lo', 'del', 'arg', '24', '15'], ['potro', 'lo', 'del', 'arg', '24', '15'], ['potro', 'lo', 'del', 'arg', '24', '15'], ['potro', 'lo', 'del', 'arg', '24', '15'], ['potro', 'lo', 'del', 'arg', '24', '15'], ['potro', 'lo', 'del', 'arg', '24', '15'], ['potro', 'lo', 'del', 'arg', '24', '15'], ['potro', 'lo', 'del', 'arg', '24', '15'], ['potro', 'lo', 'del', 'arg', '24', '15'], ['potro', 'lo', 'del', 'arg', '24', '15'], ['potro', 'lo', 'del', 'arg', '24', '15'], ['potro', 'lo', 'del', 'arg', '24', '15'], ['potro', 'lo', 'del', 'arg', '24', '15'], ['potro', 'lo', 'del', 'arg', '24', '15'], ['potro', 'lo', 'del', 'arg', '24', '15'], ['potro', 'lo', 'del', 'arg', '24', '15'], ['potro', 'lo', 'del', 'arg', '24', '15'], ['potro', 'lo', 'del', 'arg', '24', '15'], ['potro', 'lo', 'del', 'arg', '24', '15'], ['potro', 'lo', 'del', 'arg', '24', '15'], ['potro', 'lo', 'del', 'arg', '24', '15'], ['potro', 'lo', 'del', 'arg', '24', '15'], ['potro', 'lo', 'del', 'arg', '24', '15'], ['potro', 'o', 'del', 'arg', '2a', '15'], ['potro', 'o', 'del', 'arg', '2a', '15'], ['potro', 'o', 'del', 'arg', '2a', '15'], ['potro', 'o', 'del', 'arg', '2a', '15'], ['potro', 'o', 'del', 'arg', '2a', '15'], ['potro', 'o', 'del', 'arg', '2a', '15'], ['potro', 'o', 'del', 'arg', '2a', '15'], ['potro', 'o', 'del', 'arg', '2a', '15'], ['potro', 'o', 'del', 'arg', '2a', '15'], ['potro', 'o', 'del', 'arg', '2a', '15'], ['potro', 'o', 'del', 'arg', '2a', '15'], ['potro', 'o', 'del', 'arg', '2a', '15'], ['potro', 'o', 'del', 'arg', '2a', '15'], ['potro', 'o', 'del', 'arg', '2a', '15'], ['potro', 'o', 'del', 'arg', '2a', '15'], ['potro', 'o', 'del', 'arg', '2a', '15'], ['potro', 'o', 'del', 'arg', '2a', '15'], ['potro', 'o', 'del', 'arg', '2a', '15'], ['potro', 'o', 'del', 'arg', '2a', '15'], ['potro', 'o', 'del', 'arg', '2a', '15'], ['potro', 'o', 'del', 'arg', '2a', '15'], ['potro', 'o', 'del', 'arg', '2a', '15'], ['potro', 'o', 'del', 'arg', '2a', '15'], ['potro', 'o', 'del', 'arg', '2a', '15'], ['potro', 'o', 'del', 'arg', '2a', '15']]\n",
    "#total_firstplayerscores=total_firstplayerscores[:43]\n",
    "print(len(total_firstplayerscores))\n",
    "print(len(total_secondplayerscores))\n",
    "player1=[]\n",
    "player1_score=[]\n",
    "player2=[]\n",
    "player2_score=[]\n",
    "\n",
    "for i in range (len(total_firstplayerscores)):\n",
    "    l1=total_firstplayerscores[i]\n",
    "    l2=total_secondplayerscores[i]\n",
    "    if l1:\n",
    "        player1.append(l1.pop(0))\n",
    "    else:\n",
    "        player1.append('')    \n",
    "    player1_score.append(l1)\n",
    "    if l2:   \n",
    "        player2.append(l2.pop(0))\n",
    "    else:\n",
    "        player2.append('')    \n",
    "    player2_score.append(l2)\n",
    "\n",
    "\n",
    "df=pd.DataFrame({'player1':player1,'player1_score':player1_score,'player2':player2,'player2_score':player2_score})\n",
    "df.to_csv('score.csv',index=False)\n"
   ]
  },
  {
   "cell_type": "code",
   "execution_count": null,
   "metadata": {},
   "outputs": [],
   "source": [
    "\n",
    "import pandas as pd\n",
    "total_firstplayerscores=[['o', 'nadal', 'esp', '15'], ['o', 'nadal', 'esp', '15'], ['o', 'nadal', 'esp', '15'], ['o', 'nadal', 'esp', '15'], ['o', 'nadal', 'esp', '15'], ['o', 'nadal', 'esp', '15'], ['o', 'nadal', 'esp', '15'], ['o', 'nadal', 'esp', '15'], ['o', 'nadal', 'esp', '15'], ['o', 'nadal', 'esp', '15'], ['o', 'nadal', 'esp', '15'], ['o', 'nadal', 'esp', '15'], ['o', 'nadal', 'esp', '15'], ['o', 'nadal', 'esp', '15'], ['o', 'nadal', 'esp', '15'], ['o', 'nadal', 'esp', '15'], ['o', 'nadal', 'esp', '15'], ['o', 'nadal', 'esp', '15'], ['o', 'nadal', 'esp', '15'], ['o', 'nadal', 'esp', '15'], ['o', 'nadal', 'esp', '15'], ['o', 'nadal', 'esp', '15'], ['o', 'nadal', 'esp', '15'], ['o', 'nadal', 'esp', '15'], ['o', 'nadal', 'esp', '15'], ['o', 'nadal', 'esp', '15'], ['o', 'nadal', 'esp', '15'], ['o', 'nadal', 'esp', '15'], ['o', 'nadal', 'esp', '15'], ['o', 'nadal', 'esp', '15'], ['o', 'nadal', 'esp', '15'], ['o', 'nadal', 'esp', '15'], ['o', 'nadal', 'esp', '15'], ['o', 'nadal', 'esp', '15'], ['o', 'nadal', 'esp', '15'], ['o', 'nadal', 'esp', '15'], ['o', 'nadal', 'esp', '15'], ['o', 'nadal', 'esp', '15'], ['o', 'nadal', 'esp', '15'], ['o', 'nadal', 'esp', '15'], ['o', 'nadal', 'esp', '15'], ['o', 'nadal', 'esp', '15'], ['o', 'nadal', 'esp', '15'], ['o', 'nadal', 'esp', '15'], ['o', 'nadal', 'esp', '15'], ['o', 'nadal', 'esp', '15'], ['o', 'nadal', 'esp', '15'], ['o', 'nadal', 'esp', '15'], ['o', 'nadal', 'esp', '15'], ['o', 'nadal', 'esp', '15'], ['o', 'nadal', 'esp', '15'], ['o', 'nadal', 'esp', '15'], ['o', 'nadal', 'esp', '15'], ['o', 'nadal', 'esp', '15'], ['o', 'nadal', 'esp', '15'], ['o', 'nadal', 'esp', '15'], ['o', 'nadal', 'esp', '15'], ['o', 'nadal', 'esp', '15'], ['o', 'nadal', 'esp', '15'], ['nadal', 'lo', 'esp', '15'], ['nadal', 'lo', 'esp', '15'], ['nadal', 'lo', 'esp', '15'], ['nadal', 'lo', 'esp', '15'], ['nadal', 'lo', 'esp', '15'], ['nadal', 'lo', 'esp', '15'], ['nadal', 'lo', 'esp', '15'], ['nadal', 'lo', 'esp', '15'], ['nadal', 'lo', 'esp', '15'], ['nadal', 'lo', 'esp', '15'], ['nadal', 'lo', 'esp', '15'], ['nadal', 'lo', 'esp', '15'], ['nadal', 'lo', 'esp', '15'], ['nadal', 'lo', 'esp', '15'], ['nadal', 'lo', 'esp', '15'], ['nadal', 'lo', 'esp', '15'], ['nadal', 'lo', 'esp', '15'], ['nadal', 'lo', 'esp', '15'], ['nadal', 'lo', 'esp', '15'], ['nadal', 'lo', 'esp', '15'], ['nadal', 'lo', 'esp', '15'], ['nadal', 'lo', 'esp', '15'], ['nadal', 'lo', 'esp', '15'], ['nadal', 'lo', 'esp', '15'], ['nadal', 'lo', 'esp', '15'], ['nadal', 'lo', 'esp', '15'], ['nadal', 'lo', 'esp', '15'], ['nadal', 'lo', 'esp', '15'], ['nadal', 'lo', 'esp', '15'], ['nadal', 'lo', 'esp', '15'], ['nadal', 'lo', 'esp', '15'], ['nadal', 'lo', 'esp', '15'], ['nadal', 'lo', 'esp', '15'], ['nadal', 'lo', 'esp', '15'], ['nadal', 'lo', 'esp', '15'], ['nadal', 'lo', 'esp', '15'], ['nadal', 'lo', 'esp', '15'], ['nadal', 'lo', 'esp', '15'], ['nadal', 'lo', 'esp', '15'], ['nadal', 'lo', 'esp', '15'], ['nadal', 'lo', 'esp', '15'], ['nadal', 'lo', 'esp', '15'], ['nadal', 'lo', 'esp', '15'], ['nadal', 'lo', 'esp', '15'], ['nadal', 'lo', 'esp', '15'], ['nadal', 'lo', 'esp', '15'], ['nadal', 'lo', 'esp', '15'], ['nadal', 'lo', 'esp', '15'], ['nadal', 'lo', 'esp', '15'], ['nadal', 'lo', 'esp', '15'], ['nadal', 'lo', 'esp', '15'], ['nadal', 'lo', 'esp', '15'], ['nadal', 'lo', 'esp', '15'], ['nadal', 'lo', 'esp', '15'], ['nadal', 'lo', 'esp', '15'], ['nadal', 'lo', 'esp', '15'], ['nadal', 'lo', 'esp', '15'], ['nadal', 'lo', 'esp', '15'], ['nadal', 'lo', 'esp', '15'], ['nadal', 'lo', 'esp', '15'], ['o', 'nadal', 'esp', '15'], ['o', 'nadal', 'esp', '15'], ['o', 'nadal', 'esp', '15'], ['o', 'nadal', 'esp', '15'], ['o', 'nadal', 'esp', '15'], ['o', 'nadal', 'esp', '15'], ['o', 'nadal', 'esp', '15'], ['o', 'nadal', 'esp', '15'], ['o', 'nadal', 'esp', '15'], ['o', 'nadal', 'esp', '15'], ['o', 'nadal', 'esp', '15'], ['o', 'nadal', 'esp', '15'], ['o', 'nadal', 'esp', '15'], ['o', 'nadal', 'esp', '15'], ['o', 'nadal', 'esp', '15'], ['o', 'nadal', 'esp', '15'], ['o', 'nadal', 'esp', '15'], ['o', 'nadal', 'esp', '15'], ['o', 'nadal', 'esp', '15'], ['o', 'nadal', 'esp', '15'], ['o', 'nadal', 'esp', '15'], ['o', 'nadal', 'esp', '15'], ['o', 'nadal', 'esp', '15'], ['o', 'nadal', 'esp', '15'], ['o', 'nadal', 'esp', '15'], ['o', 'nadal', 'esp', '15'], ['o', 'nadal', 'esp', '15'], ['o', 'nadal', 'esp', '15'], ['o', 'nadal', 'esp', '15'], ['o', 'nadal', 'esp', '15'], ['o', 'nadal', 'esp', '15'], ['o', 'nadal', 'esp', '15'], ['o', 'nadal', 'esp', '15'], ['o', 'nadal', 'esp', '15'], ['o', 'nadal', 'esp', '15'], ['o', 'nadal', 'esp', '15'], ['o', 'nadal', 'esp', '15'], ['o', 'nadal', 'esp', '15'], ['o', 'nadal', 'esp', '15'], ['o', 'nadal', 'esp', '15'], ['o', 'nadal', 'esp', '15'], ['o', 'nadal', 'esp', '15'], ['o', 'nadal', 'esp', '15'], ['o', 'nadal', 'esp', '15'], ['o', 'nadal', 'esp', '15'], ['o', 'nadal', 'esp', '15'], ['o', 'nadal', 'esp', '15'], ['o', 'nadal', 'esp', '15'], ['o', 'nadal', 'esp', '15'], ['o', 'nadal', 'esp', '15'], ['o', 'nadal', 'esp', '15'], ['o', 'nadal', 'esp', '15'], ['o', 'nadal', 'esp', '15'], ['o', 'nadal', 'esp', '15'], ['o', 'nadal', 'esp', '15'], ['o', 'nadal', 'esp', '15'], ['o', 'nadal', 'esp', '15'], ['o', 'nadal', 'esp', '15'], ['o', 'nadal', 'esp', '15'], ['o', 'nadal', 'esp', '15'], ['o', 'nadal', 'esp', '15'], ['o', 'nadal', 'esp', '15'], ['o', 'nadal', 'esp', '15'], ['o', 'nadal', 'esp', '15'], ['o', 'nadal', 'esp', '15'], ['o', 'nadal', 'esp', '15'], ['o', 'nadal', 'esp', '15'], ['o', 'nadal', 'esp', '15'], ['o', 'nadal', 'esp', '15'], ['o', 'nadal', 'esp', '15'], ['o', 'nadal', 'esp', '15'], ['o', 'nadal', 'esp', '15'], ['o', 'nadal', 'esp', '15'], ['o', 'nadal', 'esp', '15'], ['o', 'nadal', 'esp', '15'], ['o', 'nadal', 'esp', '15'], ['o', 'nadal', 'esp', '15'], ['o', 'nadal', 'esp', '15'], ['o', 'nadal', 'esp', '15'], ['o', 'nadal', 'esp', '15'], ['o', 'nadal', 'esp', '15'], ['o', 'nadal', 'esp', '15'], ['o', 'nadal', 'esp', '15'], ['o', 'nadal', 'esp', '15'], ['o', 'nadal', 'esp', '15']]\n",
    "total_secondplayerscores=[['potro', 'o', 'del', 'arg', '24', '0'], ['potro', 'o', 'del', 'arg', '24', '0'], ['potro', 'o', 'del', 'arg', '24', '0'], ['potro', 'o', 'del', 'arg', '24', '0'], ['potro', 'o', 'del', 'arg', '24', '0'], ['potro', 'o', 'del', 'arg', '24', '0'], ['potro', 'o', 'del', 'arg', '24', '0'], ['potro', 'o', 'del', 'arg', '24', '0'], ['potro', 'o', 'del', 'arg', '24', '0'], ['potro', 'o', 'del', 'arg', '24', '0'], ['potro', 'o', 'del', 'arg', '24', '0'], ['potro', 'o', 'del', 'arg', '24', '0'], ['potro', 'o', 'del', 'arg', '24', '0'], ['potro', 'o', 'del', 'arg', '24', '0'], ['potro', 'o', 'del', 'arg', '24', '0'], ['potro', 'o', 'del', 'arg', '24', '0'], ['potro', 'o', 'del', 'arg', '24', '0'], ['potro', 'o', 'del', 'arg', '24', '0'], ['potro', 'o', 'del', 'arg', '24', '0'], ['potro', 'o', 'del', 'arg', '24', '0'], ['potro', 'o', 'del', 'arg', '24', '0'], ['potro', 'o', 'del', 'arg', '24', '0'], ['potro', 'o', 'del', 'arg', '24', '0'], ['potro', 'o', 'del', 'arg', '24', '0'], ['potro', 'o', 'del', 'arg', '24', '0'], ['potro', 'o', 'del', 'arg', '24', '0'], ['potro', 'o', 'del', 'arg', '24', '0'], ['potro', 'o', 'del', 'arg', '24', '0'], ['potro', 'o', 'del', 'arg', '24', '0'], ['potro', 'o', 'del', 'arg', '24', '0'], ['potro', 'o', 'del', 'arg', '24', '0'], ['potro', 'o', 'del', 'arg', '24', '0'], ['potro', 'o', 'del', 'arg', '24', '0'], ['potro', 'o', 'del', 'arg', '24', '0'], ['potro', 'o', 'del', 'arg', '24', '0'], ['potro', 'o', 'del', 'arg', '24', '0'], ['potro', 'o', 'del', 'arg', '24', '0'], ['potro', 'o', 'del', 'arg', '24', '0'], ['potro', 'o', 'del', 'arg', '24', '0'], ['potro', 'o', 'del', 'arg', '24', '0'], ['potro', 'o', 'del', 'arg', '24', '0'], ['potro', 'o', 'del', 'arg', '24', '0'], ['potro', 'o', 'del', 'arg', '24', '0'], ['potro', 'o', 'del', 'arg', '24', '0'], ['potro', 'o', 'del', 'arg', '24', '0'], ['potro', 'o', 'del', 'arg', '24', '0'], ['potro', 'o', 'del', 'arg', '24', '0'], ['potro', 'o', 'del', 'arg', '24', '0'], ['potro', 'o', 'del', 'arg', '24', '0'], ['potro', 'o', 'del', 'arg', '24', '0'], ['potro', 'o', 'del', 'arg', '24', '0'], ['potro', 'o', 'del', 'arg', '24', '0'], ['potro', 'o', 'del', 'arg', '24', '0'], ['potro', 'o', 'del', 'arg', '24', '0'], ['potro', 'o', 'del', 'arg', '24', '0'], ['potro', 'o', 'del', 'arg', '24', '0'], ['potro', 'o', 'del', 'arg', '24', '0'], ['potro', 'o', 'del', 'arg', '24', '0'], ['potro', 'o', 'del', 'arg', '24', '0'], ['potro', 'o', 'o', 'del', 'arg', '24'], ['potro', 'o', 'o', 'del', 'arg', '24'], ['potro', 'o', 'o', 'del', 'arg', '24'], ['potro', 'o', 'o', 'del', 'arg', '24'], ['potro', 'o', 'o', 'del', 'arg', '24'], ['potro', 'o', 'o', 'del', 'arg', '24'], ['potro', 'o', 'o', 'del', 'arg', '24'], ['potro', 'o', 'o', 'del', 'arg', '24'], ['potro', 'o', 'o', 'del', 'arg', '24'], ['potro', 'o', 'o', 'del', 'arg', '24'], ['potro', 'o', 'o', 'del', 'arg', '24'], ['potro', 'o', 'o', 'del', 'arg', '24'], ['potro', 'o', 'o', 'del', 'arg', '24'], ['potro', 'o', 'o', 'del', 'arg', '24'], ['potro', 'o', 'o', 'del', 'arg', '24'], ['potro', 'o', 'o', 'del', 'arg', '24'], ['potro', 'o', 'o', 'del', 'arg', '24'], ['potro', 'o', 'o', 'del', 'arg', '24'], ['potro', 'o', 'o', 'del', 'arg', '24'], ['potro', 'o', 'o', 'del', 'arg', '24'], ['potro', 'o', 'o', 'del', 'arg', '24'], ['potro', 'o', 'o', 'del', 'arg', '24'], ['potro', 'o', 'o', 'del', 'arg', '24'], ['potro', 'o', 'o', 'del', 'arg', '24'], ['potro', 'o', 'o', 'del', 'arg', '24'], ['potro', 'o', 'o', 'del', 'arg', '24'], ['potro', 'o', 'o', 'del', 'arg', '24'], ['potro', 'o', 'o', 'del', 'arg', '24'], ['potro', 'o', 'o', 'del', 'arg', '24'], ['potro', 'o', 'o', 'del', 'arg', '24'], ['potro', 'o', 'o', 'del', 'arg', '24'], ['potro', 'o', 'o', 'del', 'arg', '24'], ['potro', 'o', 'o', 'del', 'arg', '24'], ['potro', 'o', 'o', 'del', 'arg', '24'], ['potro', 'o', 'o', 'del', 'arg', '24'], ['potro', 'o', 'o', 'del', 'arg', '24'], ['potro', 'o', 'o', 'del', 'arg', '24'], ['potro', 'o', 'o', 'del', 'arg', '24'], ['potro', 'o', 'o', 'del', 'arg', '24'], ['potro', 'o', 'o', 'del', 'arg', '24'], ['potro', 'o', 'o', 'del', 'arg', '24'], ['potro', 'o', 'o', 'del', 'arg', '24'], ['potro', 'o', 'o', 'del', 'arg', '24'], ['potro', 'o', 'o', 'del', 'arg', '24'], ['potro', 'o', 'o', 'del', 'arg', '24'], ['potro', 'o', 'o', 'del', 'arg', '24'], ['potro', 'o', 'o', 'del', 'arg', '24'], ['potro', 'o', 'o', 'del', 'arg', '24'], ['potro', 'o', 'o', 'del', 'arg', '24'], ['potro', 'o', 'o', 'del', 'arg', '24'], ['potro', 'o', 'o', 'del', 'arg', '24'], ['potro', 'o', 'o', 'del', 'arg', '24'], ['potro', 'o', 'o', 'del', 'arg', '24'], ['potro', 'o', 'o', 'del', 'arg', '24'], ['potro', 'o', 'o', 'del', 'arg', '24'], ['potro', 'o', 'o', 'del', 'arg', '24'], ['potro', 'o', 'o', 'del', 'arg', '24'], ['potro', 'o', 'o', 'del', 'arg', '24'], ['potro', 'o', 'o', 'del', 'arg', '24'], ['potro', 'o', 'o', 'del', 'arg', '24'], ['potro', 'lo', 'del', 'arg', '24', '15'], ['potro', 'lo', 'del', 'arg', '24', '15'], ['potro', 'lo', 'del', 'arg', '24', '15'], ['potro', 'lo', 'del', 'arg', '24', '15'], ['potro', 'lo', 'del', 'arg', '24', '15'], ['potro', 'lo', 'del', 'arg', '24', '15'], ['potro', 'lo', 'del', 'arg', '24', '15'], ['potro', 'lo', 'del', 'arg', '24', '15'], ['potro', 'lo', 'del', 'arg', '24', '15'], ['potro', 'lo', 'del', 'arg', '24', '15'], ['potro', 'lo', 'del', 'arg', '24', '15'], ['potro', 'lo', 'del', 'arg', '24', '15'], ['potro', 'lo', 'del', 'arg', '24', '15'], ['potro', 'lo', 'del', 'arg', '24', '15'], ['potro', 'lo', 'del', 'arg', '24', '15'], ['potro', 'lo', 'del', 'arg', '24', '15'], ['potro', 'lo', 'del', 'arg', '24', '15'], ['potro', 'lo', 'del', 'arg', '24', '15'], ['potro', 'lo', 'del', 'arg', '24', '15'], ['potro', 'lo', 'del', 'arg', '24', '15'], ['potro', 'lo', 'del', 'arg', '24', '15'], ['potro', 'lo', 'del', 'arg', '24', '15'], ['potro', 'lo', 'del', 'arg', '24', '15'], ['potro', 'lo', 'del', 'arg', '24', '15'], ['potro', 'lo', 'del', 'arg', '24', '15'], ['potro', 'lo', 'del', 'arg', '24', '15'], ['potro', 'lo', 'del', 'arg', '24', '15'], ['potro', 'lo', 'del', 'arg', '24', '15'], ['potro', 'lo', 'del', 'arg', '24', '15'], ['potro', 'lo', 'del', 'arg', '24', '15'], ['potro', 'lo', 'del', 'arg', '24', '15'], ['potro', 'lo', 'del', 'arg', '24', '15'], ['potro', 'lo', 'del', 'arg', '24', '15'], ['potro', 'lo', 'del', 'arg', '24', '15'], ['potro', 'lo', 'del', 'arg', '24', '15'], ['potro', 'lo', 'del', 'arg', '24', '15'], ['potro', 'lo', 'del', 'arg', '24', '15'], ['potro', 'lo', 'del', 'arg', '24', '15'], ['potro', 'lo', 'del', 'arg', '24', '15'], ['potro', 'lo', 'del', 'arg', '24', '15'], ['potro', 'lo', 'del', 'arg', '24', '15'], ['potro', 'lo', 'del', 'arg', '24', '15'], ['potro', 'lo', 'del', 'arg', '24', '15'], ['potro', 'lo', 'del', 'arg', '24', '15'], ['potro', 'lo', 'del', 'arg', '24', '15'], ['potro', 'lo', 'del', 'arg', '24', '15'], ['potro', 'lo', 'del', 'arg', '24', '15'], ['potro', 'lo', 'del', 'arg', '24', '15'], ['potro', 'lo', 'del', 'arg', '24', '15'], ['potro', 'lo', 'del', 'arg', '24', '15'], ['potro', 'lo', 'del', 'arg', '24', '15'], ['potro', 'lo', 'del', 'arg', '24', '15'], ['potro', 'lo', 'del', 'arg', '24', '15'], ['potro', 'lo', 'del', 'arg', '24', '15'], ['potro', 'lo', 'del', 'arg', '24', '15'], ['potro', 'lo', 'del', 'arg', '24', '15'], ['potro', 'lo', 'del', 'arg', '24', '15'], ['potro', 'lo', 'del', 'arg', '24', '15'], ['potro', 'lo', 'del', 'arg', '24', '15'], ['potro', 'lo', 'del', 'arg', '24', '15'], ['potro', 'o', 'del', 'arg', '2a', '15'], ['potro', 'o', 'del', 'arg', '2a', '15'], ['potro', 'o', 'del', 'arg', '2a', '15'], ['potro', 'o', 'del', 'arg', '2a', '15'], ['potro', 'o', 'del', 'arg', '2a', '15'], ['potro', 'o', 'del', 'arg', '2a', '15'], ['potro', 'o', 'del', 'arg', '2a', '15'], ['potro', 'o', 'del', 'arg', '2a', '15'], ['potro', 'o', 'del', 'arg', '2a', '15'], ['potro', 'o', 'del', 'arg', '2a', '15'], ['potro', 'o', 'del', 'arg', '2a', '15'], ['potro', 'o', 'del', 'arg', '2a', '15'], ['potro', 'o', 'del', 'arg', '2a', '15'], ['potro', 'o', 'del', 'arg', '2a', '15'], ['potro', 'o', 'del', 'arg', '2a', '15'], ['potro', 'o', 'del', 'arg', '2a', '15'], ['potro', 'o', 'del', 'arg', '2a', '15'], ['potro', 'o', 'del', 'arg', '2a', '15'], ['potro', 'o', 'del', 'arg', '2a', '15'], ['potro', 'o', 'del', 'arg', '2a', '15'], ['potro', 'o', 'del', 'arg', '2a', '15'], ['potro', 'o', 'del', 'arg', '2a', '15'], ['potro', 'o', 'del', 'arg', '2a', '15'], ['potro', 'o', 'del', 'arg', '2a', '15'], ['potro', 'o', 'del', 'arg', '2a', '15']]\n",
    "\n",
    "\n",
    "#data = [['Geeks', 10], ['for', 15], ['geeks', 20]]\n",
    "\n",
    "\n",
    "df1 = pd.DataFrame(total_firstplayerscores)\n",
    "df2=pd.DataFrame(total_secondplayerscores)\n",
    "\n",
    "\n",
    "\n",
    "df3=[df1,df2]\n",
    "x=pd.concat(df3,axis=1)\n",
    "x\n",
    "\n"
   ]
  },
  {
   "cell_type": "code",
   "execution_count": null,
   "metadata": {},
   "outputs": [],
   "source": [
    "import pandas as pd\n",
    "import numpy as np\n",
    "\n",
    "x=['o', 'nadal', 'esp', '15']\n",
    "x.sort(key=len,reverse=True)\n",
    "x\n",
    "\n"
   ]
  },
  {
   "cell_type": "code",
   "execution_count": 3,
   "metadata": {},
   "outputs": [
    {
     "name": "stdout",
     "output_type": "stream",
     "text": [
      "(1080, 1920, 3)\n"
     ]
    }
   ],
   "source": [
    "import cv2\n",
    "from utils import get_video_properties, get_dtype, get_stickman_line_connection\n",
    "\n",
    "cap = cv2.VideoCapture('/home/smartcoach/Smart_coach/smartcoach/videos/ocr_vid.mp4')\n",
    "if (cap.isOpened()== False): \n",
    "  print(\"Error opening video stream or file\")\n",
    " \n",
    "frame_i=0\n",
    "while(cap.isOpened()):\n",
    "  ret, frame = cap.read()\n",
    "  fps, length, v_width, v_height = get_video_properties(cap)\n",
    "  \n",
    "  if ret == True:\n",
    "    frame_i+=1\n",
    "    if frame_i==3:\n",
    "        print(frame.shape)\n",
    "        cropped =frame[v_height*3//4:,:v_width*3//9]\n",
    "        cv2.imwrite('Frame1.png',frame)\n",
    "        cv2.imwrite('cropped ocr Frame.png',cropped)\n",
    "\n",
    "        if cv2.waitKey(25) & 0xFF == ord('q'):\n",
    "            break\n",
    " \n",
    "  else: \n",
    "    break\n",
    " \n",
    "cap.release()\n",
    " \n",
    "cv2.destroyAllWindows()"
   ]
  },
  {
   "cell_type": "code",
   "execution_count": null,
   "metadata": {},
   "outputs": [],
   "source": [
    "import pandas as pd\n",
    "df= pd.read_csv('ocr_players_score.csv')\n",
    "\"\"\" df1=df[[\"0\", \"1\",\"2\",\"3\"]]\n",
    "df2=df.drop(df1,axis=1)\n",
    "df2 \"\"\"\n",
    "\n",
    "#df=df.drop('0.1',axis=1)\n",
    "df"
   ]
  },
  {
   "cell_type": "code",
   "execution_count": null,
   "metadata": {},
   "outputs": [],
   "source": [
    "df1=df.iloc[:,-1:]\n",
    "df1"
   ]
  },
  {
   "cell_type": "code",
   "execution_count": null,
   "metadata": {},
   "outputs": [],
   "source": [
    "df2=df.iloc[:,:1]\n",
    "df2"
   ]
  },
  {
   "cell_type": "code",
   "execution_count": null,
   "metadata": {},
   "outputs": [],
   "source": [
    "df3=[df2,df1]\n",
    "x=pd.concat(df3,axis=1)\n",
    "x"
   ]
  },
  {
   "cell_type": "code",
   "execution_count": null,
   "metadata": {},
   "outputs": [],
   "source": [
    "\n",
    "df.rename(columns = {'0':'player1', '1':'player1_score','1.1':'player2','2.1':'player2_score'}, inplace = True)\n",
    "df"
   ]
  },
  {
   "cell_type": "code",
   "execution_count": null,
   "metadata": {},
   "outputs": [],
   "source": [
    "df1=df[['player1','player1_score']]\n",
    "df1"
   ]
  },
  {
   "cell_type": "code",
   "execution_count": null,
   "metadata": {},
   "outputs": [],
   "source": [
    "df2=df.drop(df1,axis=1)\n",
    "df2"
   ]
  },
  {
   "cell_type": "code",
   "execution_count": null,
   "metadata": {},
   "outputs": [],
   "source": [
    "first=df[['0','1','2','3']]\n",
    "first[[first.columns[0],first.columns[-1]]]"
   ]
  },
  {
   "cell_type": "code",
   "execution_count": null,
   "metadata": {},
   "outputs": [],
   "source": [
    "first.rename(columns = {first.columns[0]:'player1', '1':'player1_score',first.columns[-1]:'player2','1.1':'player2_score'}, inplace = True)\n",
    "first"
   ]
  },
  {
   "cell_type": "code",
   "execution_count": 1,
   "metadata": {},
   "outputs": [
    {
     "data": {
      "text/plain": [
       "['serve', 'serve and returned', 'backhand']"
      ]
     },
     "execution_count": 1,
     "metadata": {},
     "output_type": "execute_result"
    }
   ],
   "source": [
    "import pandas as pd\n",
    "df=pd.read_csv('/home/smartcoach/Fady/smartcoach/src/player1StrockType.csv',index_col=False)\n",
    "df.rename(columns = {'1':'player1_stroks'}, inplace = True)\n",
    "\n",
    "str_list=list(df['player1_stroks'])\n",
    "\n",
    "for x in range(len(str_list)):\n",
    "  if str_list[x]=='serve and returned' and str_list[x+1]=='serve and returned':\n",
    "      \n",
    "      str_list[x]='Out'\n",
    "\n",
    " \n",
    "str_list\n",
    "\n"
   ]
  },
  {
   "cell_type": "code",
   "execution_count": 1,
   "metadata": {},
   "outputs": [
    {
     "data": {
      "text/html": [
       "<div>\n",
       "<style scoped>\n",
       "    .dataframe tbody tr th:only-of-type {\n",
       "        vertical-align: middle;\n",
       "    }\n",
       "\n",
       "    .dataframe tbody tr th {\n",
       "        vertical-align: top;\n",
       "    }\n",
       "\n",
       "    .dataframe thead th {\n",
       "        text-align: right;\n",
       "    }\n",
       "</style>\n",
       "<table border=\"1\" class=\"dataframe\">\n",
       "  <thead>\n",
       "    <tr style=\"text-align: right;\">\n",
       "      <th></th>\n",
       "      <th>player2</th>\n",
       "      <th>player2_score</th>\n",
       "      <th>player2.1</th>\n",
       "      <th>player2_score.1</th>\n",
       "    </tr>\n",
       "  </thead>\n",
       "  <tbody>\n",
       "    <tr>\n",
       "      <th>0</th>\n",
       "      <td>davidovich</td>\n",
       "      <td>o</td>\n",
       "      <td>berrettini</td>\n",
       "      <td>15</td>\n",
       "    </tr>\n",
       "    <tr>\n",
       "      <th>1</th>\n",
       "      <td>davidovich</td>\n",
       "      <td>o</td>\n",
       "      <td>berrettini</td>\n",
       "      <td>15</td>\n",
       "    </tr>\n",
       "    <tr>\n",
       "      <th>2</th>\n",
       "      <td>davidovich</td>\n",
       "      <td>o</td>\n",
       "      <td>berrettini</td>\n",
       "      <td>15</td>\n",
       "    </tr>\n",
       "    <tr>\n",
       "      <th>3</th>\n",
       "      <td>davidovich</td>\n",
       "      <td>o</td>\n",
       "      <td>berrettini</td>\n",
       "      <td>15</td>\n",
       "    </tr>\n",
       "    <tr>\n",
       "      <th>4</th>\n",
       "      <td>davidovich</td>\n",
       "      <td>o</td>\n",
       "      <td>berrettini</td>\n",
       "      <td>15</td>\n",
       "    </tr>\n",
       "    <tr>\n",
       "      <th>...</th>\n",
       "      <td>...</td>\n",
       "      <td>...</td>\n",
       "      <td>...</td>\n",
       "      <td>...</td>\n",
       "    </tr>\n",
       "    <tr>\n",
       "      <th>382</th>\n",
       "      <td>davidovich</td>\n",
       "      <td>15</td>\n",
       "      <td>berrettini</td>\n",
       "      <td>15</td>\n",
       "    </tr>\n",
       "    <tr>\n",
       "      <th>383</th>\n",
       "      <td>davidovich</td>\n",
       "      <td>15</td>\n",
       "      <td>berrettini</td>\n",
       "      <td>15</td>\n",
       "    </tr>\n",
       "    <tr>\n",
       "      <th>384</th>\n",
       "      <td>davidovich</td>\n",
       "      <td>15</td>\n",
       "      <td>berrettini</td>\n",
       "      <td>15</td>\n",
       "    </tr>\n",
       "    <tr>\n",
       "      <th>385</th>\n",
       "      <td>davidovich</td>\n",
       "      <td>15</td>\n",
       "      <td>berrettini</td>\n",
       "      <td>15</td>\n",
       "    </tr>\n",
       "    <tr>\n",
       "      <th>386</th>\n",
       "      <td>davidovich</td>\n",
       "      <td>15</td>\n",
       "      <td>berrettini</td>\n",
       "      <td>15</td>\n",
       "    </tr>\n",
       "  </tbody>\n",
       "</table>\n",
       "<p>387 rows × 4 columns</p>\n",
       "</div>"
      ],
      "text/plain": [
       "        player2 player2_score   player2.1  player2_score.1\n",
       "0    davidovich             o  berrettini               15\n",
       "1    davidovich             o  berrettini               15\n",
       "2    davidovich             o  berrettini               15\n",
       "3    davidovich             o  berrettini               15\n",
       "4    davidovich             o  berrettini               15\n",
       "..          ...           ...         ...              ...\n",
       "382  davidovich            15  berrettini               15\n",
       "383  davidovich            15  berrettini               15\n",
       "384  davidovich            15  berrettini               15\n",
       "385  davidovich            15  berrettini               15\n",
       "386  davidovich            15  berrettini               15\n",
       "\n",
       "[387 rows x 4 columns]"
      ]
     },
     "execution_count": 1,
     "metadata": {},
     "output_type": "execute_result"
    }
   ],
   "source": [
    "import pandas as pd\n",
    "\n",
    "df1=pd.read_csv('/home/smartcoach/Fady/smartcoach/src/player1StrockType.csv',index_col=False)\n",
    "\n",
    "df2=pd.read_csv('/home/smartcoach/Fady/smartcoach/src/players score.csv',index_col=False)\n",
    "df2"
   ]
  },
  {
   "cell_type": "code",
   "execution_count": 9,
   "metadata": {},
   "outputs": [
    {
     "data": {
      "text/html": [
       "<div>\n",
       "<style scoped>\n",
       "    .dataframe tbody tr th:only-of-type {\n",
       "        vertical-align: middle;\n",
       "    }\n",
       "\n",
       "    .dataframe tbody tr th {\n",
       "        vertical-align: top;\n",
       "    }\n",
       "\n",
       "    .dataframe thead th {\n",
       "        text-align: right;\n",
       "    }\n",
       "</style>\n",
       "<table border=\"1\" class=\"dataframe\">\n",
       "  <thead>\n",
       "    <tr style=\"text-align: right;\">\n",
       "      <th></th>\n",
       "      <th>0</th>\n",
       "      <th>1</th>\n",
       "    </tr>\n",
       "  </thead>\n",
       "  <tbody>\n",
       "    <tr>\n",
       "      <th>0</th>\n",
       "      <td>16</td>\n",
       "      <td>serve</td>\n",
       "    </tr>\n",
       "    <tr>\n",
       "      <th>1</th>\n",
       "      <td>105</td>\n",
       "      <td>serve and returned</td>\n",
       "    </tr>\n",
       "    <tr>\n",
       "      <th>2</th>\n",
       "      <td>312</td>\n",
       "      <td>backhand</td>\n",
       "    </tr>\n",
       "  </tbody>\n",
       "</table>\n",
       "</div>"
      ],
      "text/plain": [
       "     0                   1\n",
       "0   16               serve\n",
       "1  105  serve and returned\n",
       "2  312            backhand"
      ]
     },
     "execution_count": 9,
     "metadata": {},
     "output_type": "execute_result"
    }
   ],
   "source": [
    "df1"
   ]
  },
  {
   "cell_type": "code",
   "execution_count": 48,
   "metadata": {},
   "outputs": [
    {
     "name": "stdout",
     "output_type": "stream",
     "text": [
      "True\n",
      "0     16\n",
      "1    105\n",
      "2    312\n",
      "Name: 0, dtype: int64\n",
      "True\n",
      "0     16\n",
      "1    105\n",
      "2    312\n",
      "Name: 0, dtype: int64\n",
      "False\n"
     ]
    },
    {
     "data": {
      "text/plain": [
       "[]"
      ]
     },
     "execution_count": 48,
     "metadata": {},
     "output_type": "execute_result"
    }
   ],
   "source": [
    "\n",
    "\n",
    "for i in range(len(df1)):\n",
    "    \"\"\" print(df1['1'][i]=='serve')\n",
    "    print(df1['1'][i]=='serve and returned') \"\"\"\n",
    "    print(df1['1'][i]=='serve' or df1['1'][i]=='serve and returned')\n",
    "    if df1['1'][i]=='serve' or df1['1'][i]=='serve and returned':\n",
    "        print(df1['0'])\n",
    "        \"\"\" player1.append(df2['player2_score'][df1['0'][i]])\n",
    "        player2.append(df2['player2_score.1'][df1['0'][i]] \"\"\"\n",
    "        \n",
    "player1"
   ]
  },
  {
   "cell_type": "code",
   "execution_count": 54,
   "metadata": {},
   "outputs": [
    {
     "data": {
      "text/html": [
       "<div>\n",
       "<style scoped>\n",
       "    .dataframe tbody tr th:only-of-type {\n",
       "        vertical-align: middle;\n",
       "    }\n",
       "\n",
       "    .dataframe tbody tr th {\n",
       "        vertical-align: top;\n",
       "    }\n",
       "\n",
       "    .dataframe thead th {\n",
       "        text-align: right;\n",
       "    }\n",
       "</style>\n",
       "<table border=\"1\" class=\"dataframe\">\n",
       "  <thead>\n",
       "    <tr style=\"text-align: right;\">\n",
       "      <th></th>\n",
       "      <th>player2</th>\n",
       "      <th>player2_score</th>\n",
       "      <th>player2.1</th>\n",
       "      <th>player2_score.1</th>\n",
       "    </tr>\n",
       "  </thead>\n",
       "  <tbody>\n",
       "    <tr>\n",
       "      <th>16</th>\n",
       "      <td>davidovich</td>\n",
       "      <td>o</td>\n",
       "      <td>berrettini</td>\n",
       "      <td>15</td>\n",
       "    </tr>\n",
       "    <tr>\n",
       "      <th>105</th>\n",
       "      <td>davidovich</td>\n",
       "      <td>o</td>\n",
       "      <td>berrettini</td>\n",
       "      <td>15</td>\n",
       "    </tr>\n",
       "    <tr>\n",
       "      <th>312</th>\n",
       "      <td>davidovich</td>\n",
       "      <td>15</td>\n",
       "      <td>berrettini</td>\n",
       "      <td>15</td>\n",
       "    </tr>\n",
       "  </tbody>\n",
       "</table>\n",
       "</div>"
      ],
      "text/plain": [
       "        player2 player2_score   player2.1  player2_score.1\n",
       "16   davidovich             o  berrettini               15\n",
       "105  davidovich             o  berrettini               15\n",
       "312  davidovich            15  berrettini               15"
      ]
     },
     "execution_count": 54,
     "metadata": {},
     "output_type": "execute_result"
    }
   ],
   "source": [
    "x=df2.iloc[df1['0']]\n",
    "x"
   ]
  },
  {
   "cell_type": "code",
   "execution_count": 74,
   "metadata": {},
   "outputs": [
    {
     "data": {
      "text/plain": [
       "'o'"
      ]
     },
     "execution_count": 74,
     "metadata": {},
     "output_type": "execute_result"
    }
   ],
   "source": [
    "player1=x['player2_score'].iloc[0]\n",
    "player1\n"
   ]
  },
  {
   "cell_type": "code",
   "execution_count": 76,
   "metadata": {},
   "outputs": [
    {
     "name": "stdout",
     "output_type": "stream",
     "text": [
      "out\n",
      "out\n",
      "in:  davidovich\n"
     ]
    }
   ],
   "source": [
    "player1=x['player2_score'].iloc[0]\n",
    "player2=x['player2_score.1'].iloc[0]\n",
    "\n",
    "\n",
    "for i in range(len(x)):\n",
    "    if x['player2_score'].iloc[i]==player1:\n",
    "        if x['player2_score.1'].iloc[i]==player2:\n",
    "            print('out')\n",
    "        else:\n",
    "            print('in: ',x['player2.1'].iloc[0]) \n",
    "            player2=x['player2_score.1'].iloc[i]\n",
    "    else:  \n",
    "        print('in: ',x['player2'].iloc[0]) \n",
    "        player1=x['player2_score'].iloc[i]\n",
    "\n",
    "\n",
    "\n"
   ]
  }
 ],
 "metadata": {
  "kernelspec": {
   "display_name": "Python 3",
   "language": "python",
   "name": "python3"
  },
  "language_info": {
   "codemirror_mode": {
    "name": "ipython",
    "version": 3
   },
   "file_extension": ".py",
   "mimetype": "text/x-python",
   "name": "python",
   "nbconvert_exporter": "python",
   "pygments_lexer": "ipython3",
   "version": "3.8.10"
  },
  "orig_nbformat": 4,
  "vscode": {
   "interpreter": {
    "hash": "916dbcbb3f70747c44a77c7bcd40155683ae19c65e1c03b4aa3499c5328201f1"
   }
  }
 },
 "nbformat": 4,
 "nbformat_minor": 2
}
